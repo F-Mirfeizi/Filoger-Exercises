{
 "cells": [
  {
   "cell_type": "code",
   "execution_count": 93,
   "metadata": {},
   "outputs": [],
   "source": [
    "import numpy as np\n",
    "import pandas as pd\n",
    "from scipy import stats\n",
    "import matplotlib.pyplot as plt\n",
    "import seaborn as sns"
   ]
  },
  {
   "cell_type": "code",
   "execution_count": 94,
   "metadata": {},
   "outputs": [
    {
     "data": {
      "text/html": [
       "<div>\n",
       "<style scoped>\n",
       "    .dataframe tbody tr th:only-of-type {\n",
       "        vertical-align: middle;\n",
       "    }\n",
       "\n",
       "    .dataframe tbody tr th {\n",
       "        vertical-align: top;\n",
       "    }\n",
       "\n",
       "    .dataframe thead th {\n",
       "        text-align: right;\n",
       "    }\n",
       "</style>\n",
       "<table border=\"1\" class=\"dataframe\">\n",
       "  <thead>\n",
       "    <tr style=\"text-align: right;\">\n",
       "      <th></th>\n",
       "      <th>id</th>\n",
       "      <th>year</th>\n",
       "      <th>month</th>\n",
       "      <th>day</th>\n",
       "      <th>dep_time</th>\n",
       "      <th>sched_dep_time</th>\n",
       "      <th>dep_delay</th>\n",
       "      <th>arr_time</th>\n",
       "      <th>sched_arr_time</th>\n",
       "      <th>arr_delay</th>\n",
       "      <th>...</th>\n",
       "      <th>flight</th>\n",
       "      <th>tailnum</th>\n",
       "      <th>origin</th>\n",
       "      <th>dest</th>\n",
       "      <th>air_time</th>\n",
       "      <th>distance</th>\n",
       "      <th>hour</th>\n",
       "      <th>minute</th>\n",
       "      <th>time_hour</th>\n",
       "      <th>name</th>\n",
       "    </tr>\n",
       "  </thead>\n",
       "  <tbody>\n",
       "    <tr>\n",
       "      <th>0</th>\n",
       "      <td>0</td>\n",
       "      <td>2013</td>\n",
       "      <td>1</td>\n",
       "      <td>1</td>\n",
       "      <td>517.0</td>\n",
       "      <td>515</td>\n",
       "      <td>2.0</td>\n",
       "      <td>830.0</td>\n",
       "      <td>819</td>\n",
       "      <td>11.0</td>\n",
       "      <td>...</td>\n",
       "      <td>1545</td>\n",
       "      <td>N14228</td>\n",
       "      <td>EWR</td>\n",
       "      <td>IAH</td>\n",
       "      <td>227.0</td>\n",
       "      <td>1400</td>\n",
       "      <td>5</td>\n",
       "      <td>15</td>\n",
       "      <td>2013-01-01 05:00:00</td>\n",
       "      <td>United Air Lines Inc.</td>\n",
       "    </tr>\n",
       "    <tr>\n",
       "      <th>1</th>\n",
       "      <td>1</td>\n",
       "      <td>2013</td>\n",
       "      <td>1</td>\n",
       "      <td>1</td>\n",
       "      <td>533.0</td>\n",
       "      <td>529</td>\n",
       "      <td>4.0</td>\n",
       "      <td>850.0</td>\n",
       "      <td>830</td>\n",
       "      <td>20.0</td>\n",
       "      <td>...</td>\n",
       "      <td>1714</td>\n",
       "      <td>N24211</td>\n",
       "      <td>LGA</td>\n",
       "      <td>IAH</td>\n",
       "      <td>227.0</td>\n",
       "      <td>1416</td>\n",
       "      <td>5</td>\n",
       "      <td>29</td>\n",
       "      <td>2013-01-01 05:00:00</td>\n",
       "      <td>United Air Lines Inc.</td>\n",
       "    </tr>\n",
       "    <tr>\n",
       "      <th>2</th>\n",
       "      <td>2</td>\n",
       "      <td>2013</td>\n",
       "      <td>1</td>\n",
       "      <td>1</td>\n",
       "      <td>542.0</td>\n",
       "      <td>540</td>\n",
       "      <td>2.0</td>\n",
       "      <td>923.0</td>\n",
       "      <td>850</td>\n",
       "      <td>33.0</td>\n",
       "      <td>...</td>\n",
       "      <td>1141</td>\n",
       "      <td>N619AA</td>\n",
       "      <td>JFK</td>\n",
       "      <td>MIA</td>\n",
       "      <td>160.0</td>\n",
       "      <td>1089</td>\n",
       "      <td>5</td>\n",
       "      <td>40</td>\n",
       "      <td>2013-01-01 05:00:00</td>\n",
       "      <td>American Airlines Inc.</td>\n",
       "    </tr>\n",
       "    <tr>\n",
       "      <th>3</th>\n",
       "      <td>3</td>\n",
       "      <td>2013</td>\n",
       "      <td>1</td>\n",
       "      <td>1</td>\n",
       "      <td>544.0</td>\n",
       "      <td>545</td>\n",
       "      <td>-1.0</td>\n",
       "      <td>1004.0</td>\n",
       "      <td>1022</td>\n",
       "      <td>-18.0</td>\n",
       "      <td>...</td>\n",
       "      <td>725</td>\n",
       "      <td>N804JB</td>\n",
       "      <td>JFK</td>\n",
       "      <td>BQN</td>\n",
       "      <td>183.0</td>\n",
       "      <td>1576</td>\n",
       "      <td>5</td>\n",
       "      <td>45</td>\n",
       "      <td>2013-01-01 05:00:00</td>\n",
       "      <td>JetBlue Airways</td>\n",
       "    </tr>\n",
       "    <tr>\n",
       "      <th>4</th>\n",
       "      <td>4</td>\n",
       "      <td>2013</td>\n",
       "      <td>1</td>\n",
       "      <td>1</td>\n",
       "      <td>554.0</td>\n",
       "      <td>600</td>\n",
       "      <td>-6.0</td>\n",
       "      <td>812.0</td>\n",
       "      <td>837</td>\n",
       "      <td>-25.0</td>\n",
       "      <td>...</td>\n",
       "      <td>461</td>\n",
       "      <td>N668DN</td>\n",
       "      <td>LGA</td>\n",
       "      <td>ATL</td>\n",
       "      <td>116.0</td>\n",
       "      <td>762</td>\n",
       "      <td>6</td>\n",
       "      <td>0</td>\n",
       "      <td>2013-01-01 06:00:00</td>\n",
       "      <td>Delta Air Lines Inc.</td>\n",
       "    </tr>\n",
       "    <tr>\n",
       "      <th>...</th>\n",
       "      <td>...</td>\n",
       "      <td>...</td>\n",
       "      <td>...</td>\n",
       "      <td>...</td>\n",
       "      <td>...</td>\n",
       "      <td>...</td>\n",
       "      <td>...</td>\n",
       "      <td>...</td>\n",
       "      <td>...</td>\n",
       "      <td>...</td>\n",
       "      <td>...</td>\n",
       "      <td>...</td>\n",
       "      <td>...</td>\n",
       "      <td>...</td>\n",
       "      <td>...</td>\n",
       "      <td>...</td>\n",
       "      <td>...</td>\n",
       "      <td>...</td>\n",
       "      <td>...</td>\n",
       "      <td>...</td>\n",
       "      <td>...</td>\n",
       "    </tr>\n",
       "    <tr>\n",
       "      <th>336771</th>\n",
       "      <td>336771</td>\n",
       "      <td>2013</td>\n",
       "      <td>9</td>\n",
       "      <td>30</td>\n",
       "      <td>NaN</td>\n",
       "      <td>1455</td>\n",
       "      <td>NaN</td>\n",
       "      <td>NaN</td>\n",
       "      <td>1634</td>\n",
       "      <td>NaN</td>\n",
       "      <td>...</td>\n",
       "      <td>3393</td>\n",
       "      <td>NaN</td>\n",
       "      <td>JFK</td>\n",
       "      <td>DCA</td>\n",
       "      <td>NaN</td>\n",
       "      <td>213</td>\n",
       "      <td>14</td>\n",
       "      <td>55</td>\n",
       "      <td>2013-09-30 14:00:00</td>\n",
       "      <td>Endeavor Air Inc.</td>\n",
       "    </tr>\n",
       "    <tr>\n",
       "      <th>336772</th>\n",
       "      <td>336772</td>\n",
       "      <td>2013</td>\n",
       "      <td>9</td>\n",
       "      <td>30</td>\n",
       "      <td>NaN</td>\n",
       "      <td>2200</td>\n",
       "      <td>NaN</td>\n",
       "      <td>NaN</td>\n",
       "      <td>2312</td>\n",
       "      <td>NaN</td>\n",
       "      <td>...</td>\n",
       "      <td>3525</td>\n",
       "      <td>NaN</td>\n",
       "      <td>LGA</td>\n",
       "      <td>SYR</td>\n",
       "      <td>NaN</td>\n",
       "      <td>198</td>\n",
       "      <td>22</td>\n",
       "      <td>0</td>\n",
       "      <td>2013-09-30 22:00:00</td>\n",
       "      <td>Endeavor Air Inc.</td>\n",
       "    </tr>\n",
       "    <tr>\n",
       "      <th>336773</th>\n",
       "      <td>336773</td>\n",
       "      <td>2013</td>\n",
       "      <td>9</td>\n",
       "      <td>30</td>\n",
       "      <td>NaN</td>\n",
       "      <td>1210</td>\n",
       "      <td>NaN</td>\n",
       "      <td>NaN</td>\n",
       "      <td>1330</td>\n",
       "      <td>NaN</td>\n",
       "      <td>...</td>\n",
       "      <td>3461</td>\n",
       "      <td>N535MQ</td>\n",
       "      <td>LGA</td>\n",
       "      <td>BNA</td>\n",
       "      <td>NaN</td>\n",
       "      <td>764</td>\n",
       "      <td>12</td>\n",
       "      <td>10</td>\n",
       "      <td>2013-09-30 12:00:00</td>\n",
       "      <td>Envoy Air</td>\n",
       "    </tr>\n",
       "    <tr>\n",
       "      <th>336774</th>\n",
       "      <td>336774</td>\n",
       "      <td>2013</td>\n",
       "      <td>9</td>\n",
       "      <td>30</td>\n",
       "      <td>NaN</td>\n",
       "      <td>1159</td>\n",
       "      <td>NaN</td>\n",
       "      <td>NaN</td>\n",
       "      <td>1344</td>\n",
       "      <td>NaN</td>\n",
       "      <td>...</td>\n",
       "      <td>3572</td>\n",
       "      <td>N511MQ</td>\n",
       "      <td>LGA</td>\n",
       "      <td>CLE</td>\n",
       "      <td>NaN</td>\n",
       "      <td>419</td>\n",
       "      <td>11</td>\n",
       "      <td>59</td>\n",
       "      <td>2013-09-30 11:00:00</td>\n",
       "      <td>Envoy Air</td>\n",
       "    </tr>\n",
       "    <tr>\n",
       "      <th>336775</th>\n",
       "      <td>336775</td>\n",
       "      <td>2013</td>\n",
       "      <td>9</td>\n",
       "      <td>30</td>\n",
       "      <td>NaN</td>\n",
       "      <td>840</td>\n",
       "      <td>NaN</td>\n",
       "      <td>NaN</td>\n",
       "      <td>1020</td>\n",
       "      <td>NaN</td>\n",
       "      <td>...</td>\n",
       "      <td>3531</td>\n",
       "      <td>N839MQ</td>\n",
       "      <td>LGA</td>\n",
       "      <td>RDU</td>\n",
       "      <td>NaN</td>\n",
       "      <td>431</td>\n",
       "      <td>8</td>\n",
       "      <td>40</td>\n",
       "      <td>2013-09-30 08:00:00</td>\n",
       "      <td>Envoy Air</td>\n",
       "    </tr>\n",
       "  </tbody>\n",
       "</table>\n",
       "<p>336776 rows × 21 columns</p>\n",
       "</div>"
      ],
      "text/plain": [
       "            id  year  month  day  dep_time  sched_dep_time  dep_delay  \\\n",
       "0            0  2013      1    1     517.0             515        2.0   \n",
       "1            1  2013      1    1     533.0             529        4.0   \n",
       "2            2  2013      1    1     542.0             540        2.0   \n",
       "3            3  2013      1    1     544.0             545       -1.0   \n",
       "4            4  2013      1    1     554.0             600       -6.0   \n",
       "...        ...   ...    ...  ...       ...             ...        ...   \n",
       "336771  336771  2013      9   30       NaN            1455        NaN   \n",
       "336772  336772  2013      9   30       NaN            2200        NaN   \n",
       "336773  336773  2013      9   30       NaN            1210        NaN   \n",
       "336774  336774  2013      9   30       NaN            1159        NaN   \n",
       "336775  336775  2013      9   30       NaN             840        NaN   \n",
       "\n",
       "        arr_time  sched_arr_time  arr_delay  ... flight  tailnum origin dest  \\\n",
       "0          830.0             819       11.0  ...   1545   N14228    EWR  IAH   \n",
       "1          850.0             830       20.0  ...   1714   N24211    LGA  IAH   \n",
       "2          923.0             850       33.0  ...   1141   N619AA    JFK  MIA   \n",
       "3         1004.0            1022      -18.0  ...    725   N804JB    JFK  BQN   \n",
       "4          812.0             837      -25.0  ...    461   N668DN    LGA  ATL   \n",
       "...          ...             ...        ...  ...    ...      ...    ...  ...   \n",
       "336771       NaN            1634        NaN  ...   3393      NaN    JFK  DCA   \n",
       "336772       NaN            2312        NaN  ...   3525      NaN    LGA  SYR   \n",
       "336773       NaN            1330        NaN  ...   3461   N535MQ    LGA  BNA   \n",
       "336774       NaN            1344        NaN  ...   3572   N511MQ    LGA  CLE   \n",
       "336775       NaN            1020        NaN  ...   3531   N839MQ    LGA  RDU   \n",
       "\n",
       "       air_time  distance  hour  minute            time_hour  \\\n",
       "0         227.0      1400     5      15  2013-01-01 05:00:00   \n",
       "1         227.0      1416     5      29  2013-01-01 05:00:00   \n",
       "2         160.0      1089     5      40  2013-01-01 05:00:00   \n",
       "3         183.0      1576     5      45  2013-01-01 05:00:00   \n",
       "4         116.0       762     6       0  2013-01-01 06:00:00   \n",
       "...         ...       ...   ...     ...                  ...   \n",
       "336771      NaN       213    14      55  2013-09-30 14:00:00   \n",
       "336772      NaN       198    22       0  2013-09-30 22:00:00   \n",
       "336773      NaN       764    12      10  2013-09-30 12:00:00   \n",
       "336774      NaN       419    11      59  2013-09-30 11:00:00   \n",
       "336775      NaN       431     8      40  2013-09-30 08:00:00   \n",
       "\n",
       "                          name  \n",
       "0        United Air Lines Inc.  \n",
       "1        United Air Lines Inc.  \n",
       "2       American Airlines Inc.  \n",
       "3              JetBlue Airways  \n",
       "4         Delta Air Lines Inc.  \n",
       "...                        ...  \n",
       "336771       Endeavor Air Inc.  \n",
       "336772       Endeavor Air Inc.  \n",
       "336773               Envoy Air  \n",
       "336774               Envoy Air  \n",
       "336775               Envoy Air  \n",
       "\n",
       "[336776 rows x 21 columns]"
      ]
     },
     "execution_count": 94,
     "metadata": {},
     "output_type": "execute_result"
    }
   ],
   "source": [
    "data = pd.read_csv('flights.csv')\n",
    "data"
   ]
  },
  {
   "cell_type": "code",
   "execution_count": 95,
   "metadata": {},
   "outputs": [
    {
     "name": "stdout",
     "output_type": "stream",
     "text": [
      "<class 'pandas.core.frame.DataFrame'>\n",
      "RangeIndex: 336776 entries, 0 to 336775\n",
      "Data columns (total 21 columns):\n",
      " #   Column          Non-Null Count   Dtype  \n",
      "---  ------          --------------   -----  \n",
      " 0   id              336776 non-null  int64  \n",
      " 1   year            336776 non-null  int64  \n",
      " 2   month           336776 non-null  int64  \n",
      " 3   day             336776 non-null  int64  \n",
      " 4   dep_time        328521 non-null  float64\n",
      " 5   sched_dep_time  336776 non-null  int64  \n",
      " 6   dep_delay       328521 non-null  float64\n",
      " 7   arr_time        328063 non-null  float64\n",
      " 8   sched_arr_time  336776 non-null  int64  \n",
      " 9   arr_delay       327346 non-null  float64\n",
      " 10  carrier         336776 non-null  object \n",
      " 11  flight          336776 non-null  int64  \n",
      " 12  tailnum         334264 non-null  object \n",
      " 13  origin          336776 non-null  object \n",
      " 14  dest            336776 non-null  object \n",
      " 15  air_time        327346 non-null  float64\n",
      " 16  distance        336776 non-null  int64  \n",
      " 17  hour            336776 non-null  int64  \n",
      " 18  minute          336776 non-null  int64  \n",
      " 19  time_hour       336776 non-null  object \n",
      " 20  name            336776 non-null  object \n",
      "dtypes: float64(5), int64(10), object(6)\n",
      "memory usage: 54.0+ MB\n"
     ]
    }
   ],
   "source": [
    "data.info()"
   ]
  },
  {
   "cell_type": "markdown",
   "metadata": {},
   "source": [
    "<div style=\"direction:rtl; text-align: right\">\n",
    " این دیتاست شامل 336776 سطر و 21 ستون است که 5 ستون از نوع داده های اعشاری، 10 ستون اعداد صحیح و اطلاعات 6 ستون به صورت متنی (استرینگ) است. و همانطور که مشاهده میشود 6 تا از ستونها دارای missing values هستند.</div>"
   ]
  },
  {
   "cell_type": "markdown",
   "metadata": {},
   "source": [
    "=========================================================================================================================\n"
   ]
  },
  {
   "cell_type": "markdown",
   "metadata": {},
   "source": [
    "<div style=\"direction:rtl; text-align: right\">\n",
    "<span style=\"font-size: 30px; color: red\">\n",
    "<b>    \n",
    "بررسی ستون year :\n",
    "</b>\n",
    "</span>\n",
    "</div>"
   ]
  },
  {
   "cell_type": "markdown",
   "metadata": {},
   "source": [
    "<div style=\"direction:rtl; text-align: right\">\n",
    "همانطور که ملاحظه می شود، تنها مقدار موجود در ستون year مقدار 2013 است بنابراین تمامی داده های ما مربوط به سال 2013 هستند :\n",
    "</div>"
   ]
  },
  {
   "cell_type": "code",
   "execution_count": 96,
   "metadata": {},
   "outputs": [
    {
     "data": {
      "text/plain": [
       "array([2013], dtype=int64)"
      ]
     },
     "execution_count": 96,
     "metadata": {},
     "output_type": "execute_result"
    }
   ],
   "source": [
    "pd.unique(data['year'])"
   ]
  },
  {
   "cell_type": "markdown",
   "metadata": {},
   "source": [
    "\n",
    "=========================================================================================================================\n"
   ]
  },
  {
   "cell_type": "markdown",
   "metadata": {},
   "source": [
    "\n",
    "<div style=\"direction:rtl; text-align: right\">\n",
    "<span style=\"font-size: 30px; color: red\">\n",
    "<b>    \n",
    "بررسی ستون month :\n",
    "</b>\n",
    "</span>\n",
    "</div>"
   ]
  },
  {
   "cell_type": "markdown",
   "metadata": {},
   "source": [
    "<div style=\"direction:rtl; text-align: right\">\n",
    "نمودار زیر نشان دهنده تعداد پرواز انجام شده طی هر ماه است. همانطور که مشاهده میشود کمترین تعداد پرواز در ماه فوریه و بیشترین پروازها در ماه های جولای و آگوست بوده است. \n",
    "</div>"
   ]
  },
  {
   "cell_type": "code",
   "execution_count": 97,
   "metadata": {},
   "outputs": [
    {
     "name": "stdout",
     "output_type": "stream",
     "text": [
      "month\n",
      "7     29425\n",
      "8     29327\n",
      "10    28889\n",
      "3     28834\n",
      "5     28796\n",
      "4     28330\n",
      "6     28243\n",
      "12    28135\n",
      "9     27574\n",
      "11    27268\n",
      "1     27004\n",
      "2     24951\n",
      "Name: count, dtype: int64\n"
     ]
    },
    {
     "data": {
      "text/plain": [
       "<Axes: xlabel='month', ylabel='count'>"
      ]
     },
     "execution_count": 97,
     "metadata": {},
     "output_type": "execute_result"
    },
    {
     "data": {
      "image/png": "[encoded data removed]",
      "text/plain": [
       "<Figure size 640x480 with 1 Axes>"
      ]
     },
     "metadata": {},
     "output_type": "display_data"
    }
   ],
   "source": [
    "month_count = data['month'].value_counts()\n",
    "print (month_count)\n",
    "sns.countplot(x = data['month'])"
   ]
  },
  {
   "cell_type": "markdown",
   "metadata": {},
   "source": [
    "=========================================================================================================================\n"
   ]
  },
  {
   "cell_type": "markdown",
   "metadata": {},
   "source": [
    "\n",
    "<div style=\"direction:rtl; text-align: right\">\n",
    "<span style=\"font-size: 30px; color: red\">\n",
    "<b>    \n",
    "بررسی ستون day :\n",
    "</b>\n",
    "</span>\n",
    "</div>"
   ]
  },
  {
   "cell_type": "markdown",
   "metadata": {},
   "source": [
    "<div style=\"direction:rtl; text-align: right\">\n",
    "این ستون نشان دهنده روزی است که پرواز انجام شده است. بیشتری تعداد پرواز در روزهای 18 و 11 هر ماه و کمترین پرواز در روزهای پایانی ماه (28 و 29 و 30 و 31) ثبت شده است. البته تعداد کمتر پرواز انجام شده در روز 31 قطعاً به این دلیل است که در طی سال فقط 6 ماه 31 روزه وجود دارد.  </div>"
   ]
  },
  {
   "cell_type": "code",
   "execution_count": 98,
   "metadata": {},
   "outputs": [
    {
     "name": "stdout",
     "output_type": "stream",
     "text": [
      "day\n",
      "18    11399\n",
      "11    11359\n",
      "22    11345\n",
      "15    11317\n",
      "8     11271\n",
      "10    11227\n",
      "17    11222\n",
      "3     11211\n",
      "21    11141\n",
      "20    11111\n",
      "13    11108\n",
      "25    11097\n",
      "19    11086\n",
      "27    11084\n",
      "6     11059\n",
      "4     11059\n",
      "24    11041\n",
      "1     11036\n",
      "12    11029\n",
      "14    11008\n",
      "7     10985\n",
      "23    10966\n",
      "16    10918\n",
      "26    10883\n",
      "5     10858\n",
      "9     10857\n",
      "2     10808\n",
      "28    10773\n",
      "30    10289\n",
      "29    10039\n",
      "31     6190\n",
      "Name: count, dtype: int64\n"
     ]
    },
    {
     "data": {
      "text/plain": [
       "<Axes: xlabel='day', ylabel='count'>"
      ]
     },
     "execution_count": 98,
     "metadata": {},
     "output_type": "execute_result"
    },
    {
     "data": {
      "image/png": "[encoded data removed]",
      "text/plain": [
       "<Figure size 1000x500 with 1 Axes>"
      ]
     },
     "metadata": {},
     "output_type": "display_data"
    }
   ],
   "source": [
    "day_counts = data['day'].value_counts()\n",
    "print(day_counts)\n",
    "plt.figure (figsize = (10 , 5))\n",
    "sns.countplot(x = data['day'] )"
   ]
  },
  {
   "cell_type": "markdown",
   "metadata": {},
   "source": [
    "========================================================================================================================="
   ]
  },
  {
   "cell_type": "markdown",
   "metadata": {},
   "source": [
    "<div style=\"direction:rtl; text-align: right\">\n",
    "<span style=\"font-size: 30px; color: red\">\n",
    "<b>    \n",
    "بررسی ستون arr_delay :\n",
    "</b>\n",
    "</span>\n",
    "</div>"
   ]
  },
  {
   "cell_type": "markdown",
   "metadata": {},
   "source": [
    "<div style=\"direction:rtl; text-align: right\">\n",
    "این ستون نشان دهنده میزان تاخیر در رسیدن به مقصد است. اختلاف فاحش میان میانگین ساده و میانگین اصلاح شده، نشان دهنده وجود noise در ستون arr_delay است. با توجه به اینکه مقدار میانگین اصلاح شده کمتر از میانگین ساده است می توان نتیجه گرفت که نویز در سمت راست داده ها قرار دارد. مقدار مثبت skewness نیز این موضوع را تأیید میکند. علاوه بر آن در رسم نمودار هستوگرام داده های این ستون شاهد فشردگی داده ها به سمت چپ هستیم که این موضوع نیست وجود داده پرت در سمت راست را نشان میدهد.\n",
    "</div>"
   ]
  },
  {
   "cell_type": "code",
   "execution_count": 99,
   "metadata": {},
   "outputs": [
    {
     "data": {
      "text/plain": [
       "count    327346.000000\n",
       "mean          6.895377\n",
       "std          44.633292\n",
       "min         -86.000000\n",
       "25%         -17.000000\n",
       "50%          -5.000000\n",
       "75%          14.000000\n",
       "max        1272.000000\n",
       "Name: arr_delay, dtype: float64"
      ]
     },
     "execution_count": 99,
     "metadata": {},
     "output_type": "execute_result"
    }
   ],
   "source": [
    "data['arr_delay'].describe()"
   ]
  },
  {
   "cell_type": "code",
   "execution_count": 100,
   "metadata": {},
   "outputs": [
    {
     "name": "stdout",
     "output_type": "stream",
     "text": [
      "Trim Mean : 0.9612355338465307\n",
      "Median    : -5.0\n",
      "Variance  : 1992.130727102053\n",
      "skewness  : 3.7168174804571863\n",
      "kurtosis  : 29.233043998766775\n",
      "Mode      : 0   -13.0\n",
      "Name: arr_delay, dtype: float64\n"
     ]
    }
   ],
   "source": [
    "def describe (data,col):\n",
    "    print ('Trim Mean :',stats.trim_mean(data[col], 0.1) )    # میانگین اصلاح شده\n",
    "    print ('Median    :',data[col].median())                  # میانه داده ها\n",
    "    print ('Variance  :',data[col].var())                     # واریانس\n",
    "    print ('skewness  :',data[col].skew())                    # چولگی\n",
    "    print ('kurtosis  :',data[col].kurtosis())                # کشیدگی\n",
    "    print ('Mode      :',data[col].mode())                    # مد (بیشترین تکرار داده ها)\n",
    "\n",
    "describe(data,'arr_delay')"
   ]
  },
  {
   "cell_type": "code",
   "execution_count": 101,
   "metadata": {},
   "outputs": [
    {
     "data": {
      "text/plain": [
       "Text(0, 0.5, 'number of flights')"
      ]
     },
     "execution_count": 101,
     "metadata": {},
     "output_type": "execute_result"
    },
    {
     "data": {
      "image/png": "[encoded data removed]",
      "text/plain": [
       "<Figure size 500x400 with 1 Axes>"
      ]
     },
     "metadata": {},
     "output_type": "display_data"
    }
   ],
   "source": [
    "data['arr_delay'].hist(figsize = (5,4), bins = 200)\n",
    "plt.xlabel('arrive delay (min)')\n",
    "plt.ylabel('number of flights')"
   ]
  },
  {
   "cell_type": "markdown",
   "metadata": {},
   "source": [
    "<div style=\"direction:rtl; text-align: right\">\n",
    "با توجه به متقارن بودن توزیع داده ها قانون سه سیگما برای آنها برقرار است و داریم :  </div>"
   ]
  },
  {
   "cell_type": "code",
   "execution_count": 102,
   "metadata": {},
   "outputs": [
    {
     "name": "stdout",
     "output_type": "stream",
     "text": [
      "%68.27 of data is between 51.52866844751015 and -37.737914932880365.\n",
      "%95.45 of data is between 96.1619601377054 and -82.37120662307562.\n",
      "%99.73 of data is between 140.79525182790067 and -127.00449831327089.\n"
     ]
    }
   ],
   "source": [
    "def three_sigma (data,col):\n",
    "    Mean_std_R = data[col].mean() + (data[col].std())\n",
    "    Mean_std_L = data[col].mean() - (data[col].std())\n",
    "    Mean_2std_R = data[col].mean() + (2 * data[col].std())\n",
    "    Mean_2std_L = data[col].mean() - (2 * data[col].std())\n",
    "    Mean_3std_R = data[col].mean() + (3 * data[col].std())\n",
    "    Mean_3std_L = data[col].mean() - (3 * data[col].std())\n",
    "\n",
    "    print(f'%68.27 of data is between {Mean_std_R} and {Mean_std_L}.')\n",
    "    print(f'%95.45 of data is between {Mean_2std_R} and {Mean_2std_L}.')\n",
    "    print(f'%99.73 of data is between {Mean_3std_R} and {Mean_3std_L}.')\n",
    "    \n",
    "three_sigma(data,'arr_delay')"
   ]
  },
  {
   "cell_type": "markdown",
   "metadata": {},
   "source": [
    "<div style=\"direction:rtl; text-align: right\">\n",
    "برای حذف اثر داده های پرت در اینجا از داده هایی که در فاصله بیشتر از 3 انحراف معیار از میانگین بودند صرف نظر کرده و مجدداً نمودار را رسم میکنیم.   </div>"
   ]
  },
  {
   "cell_type": "code",
   "execution_count": 103,
   "metadata": {},
   "outputs": [
    {
     "data": {
      "text/plain": [
       "Text(0, 0.5, 'Number of flights')"
      ]
     },
     "execution_count": 103,
     "metadata": {},
     "output_type": "execute_result"
    },
    {
     "data": {
      "image/png": "[encoded data removed]",
      "text/plain": [
       "<Figure size 640x480 with 1 Axes>"
      ]
     },
     "metadata": {},
     "output_type": "display_data"
    }
   ],
   "source": [
    "data['arr_delay'][data['arr_delay'] < 141].hist(bins=200)\n",
    "plt.xlabel('Arrive delay (min)')\n",
    "plt.ylabel('Number of flights')"
   ]
  },
  {
   "cell_type": "markdown",
   "metadata": {},
   "source": [
    "========================================================================================================================="
   ]
  },
  {
   "cell_type": "markdown",
   "metadata": {},
   "source": [
    "<div style=\"direction:rtl; text-align: right\">\n",
    "<span style=\"font-size: 30px; color: red\">\n",
    "<b>    \n",
    "بررسی ستون dep_delay :\n",
    "</b>\n",
    "</span>\n",
    "</div>"
   ]
  },
  {
   "cell_type": "markdown",
   "metadata": {},
   "source": [
    "<div style=\"direction:rtl; text-align: right\">\n",
    "ستون dep_delay هم دقیقا شرایطی مشابه ستون arr_delay دارد. به این صورت که اختلاف بالا بین میانگین ساده و میانگین اصلاح شده، نشان دهنده وجود noise در این ستون  است. با توجه به اینکه مقدار میانگین اصلاح شده کمتر از میانگین ساده است می توان نتیجه گرفت که نویز در سمت راست داده ها قرار دارد. مقدار مثبت skewness نیز این موضوع را تأیید میکند. به علاوه فشردگی داده ها به سمت چپ در نمودار هیستوگرام وجود داده پرت در سمت راست را نشان میدهد.\n",
    "</div>"
   ]
  },
  {
   "cell_type": "code",
   "execution_count": 104,
   "metadata": {},
   "outputs": [
    {
     "data": {
      "text/plain": [
       "count    328521.000000\n",
       "mean         12.639070\n",
       "std          40.210061\n",
       "min         -43.000000\n",
       "25%          -5.000000\n",
       "50%          -2.000000\n",
       "75%          11.000000\n",
       "max        1301.000000\n",
       "Name: dep_delay, dtype: float64"
      ]
     },
     "execution_count": 104,
     "metadata": {},
     "output_type": "execute_result"
    }
   ],
   "source": [
    "data['dep_delay'].describe()"
   ]
  },
  {
   "cell_type": "code",
   "execution_count": 105,
   "metadata": {},
   "outputs": [
    {
     "name": "stdout",
     "output_type": "stream",
     "text": [
      "Trim Mean : 4.798201334709118\n",
      "Median    : -2.0\n",
      "Variance  : 1616.8489969469451\n",
      "skewness  : 4.802540511080034\n",
      "kurtosis  : 43.95011602901041\n",
      "Mode      : 0   -5.0\n",
      "Name: dep_delay, dtype: float64\n"
     ]
    }
   ],
   "source": [
    "describe(data,'dep_delay')"
   ]
  },
  {
   "cell_type": "code",
   "execution_count": 106,
   "metadata": {},
   "outputs": [
    {
     "data": {
      "text/plain": [
       "Text(0, 0.5, 'Number of flights')"
      ]
     },
     "execution_count": 106,
     "metadata": {},
     "output_type": "execute_result"
    },
    {
     "data": {
      "image/png": "[encoded data removed]",
      "text/plain": [
       "<Figure size 640x480 with 1 Axes>"
      ]
     },
     "metadata": {},
     "output_type": "display_data"
    }
   ],
   "source": [
    "data['dep_delay'].hist(bins = 200)\n",
    "plt.xlabel('Departure delay (min)')\n",
    "plt.ylabel('Number of flights')"
   ]
  },
  {
   "cell_type": "code",
   "execution_count": 107,
   "metadata": {},
   "outputs": [
    {
     "name": "stdout",
     "output_type": "stream",
     "text": [
      "%68.27 of data is between 52.84913114941161 and -27.570990634802193.\n",
      "%95.45 of data is between 93.05919204151851 and -67.7810515269091.\n",
      "%99.73 of data is between 133.2692529336254 and -107.991112419016.\n"
     ]
    }
   ],
   "source": [
    "three_sigma(data,'dep_delay')"
   ]
  },
  {
   "cell_type": "code",
   "execution_count": 108,
   "metadata": {},
   "outputs": [
    {
     "data": {
      "text/plain": [
       "Text(0, 0.5, 'Number of flights')"
      ]
     },
     "execution_count": 108,
     "metadata": {},
     "output_type": "execute_result"
    },
    {
     "data": {
      "image/png": "[encoded data removed]",
      "text/plain": [
       "<Figure size 640x480 with 1 Axes>"
      ]
     },
     "metadata": {},
     "output_type": "display_data"
    }
   ],
   "source": [
    "data['arr_delay'][data['arr_delay'] < 134].hist(bins=200)\n",
    "plt.xlabel('Arrive delay (min)')\n",
    "plt.ylabel('Number of flights')"
   ]
  },
  {
   "cell_type": "markdown",
   "metadata": {},
   "source": [
    "========================================================================================================================="
   ]
  },
  {
   "cell_type": "markdown",
   "metadata": {},
   "source": [
    "<div style=\"direction:rtl; text-align: right\">\n",
    "<span style=\"font-size: 30px; color: red\">\n",
    "<b>    \n",
    "بررسی ستون tailnum :\n",
    "</b>\n",
    "</span>\n",
    "</div>"
   ]
  },
  {
   "cell_type": "markdown",
   "metadata": {},
   "source": [
    "<div style=\"direction:rtl; text-align: right\">\n",
    "Tail number یا شماره دم که با همین نام هم شناخته می‌شود، شماره‌ای است که به هواپیما اختصاص داده می‌شود. هر هواپیما با یک شماره دم یا tail number مشخص می‌شود که معمولا به صورت الفبایی-عددی است. این شماره بر روی بدنه‌ی هواپیما چاپ شده و به عنوان شناسه‌ای برای هواپیما استفاده می‌شود.\n",
    "شماره دم اطلاعات مهمی را درباره‌ی هواپیما ارائه می‌دهد، از جمله نوع هواپیما، سازنده، سال ساخت و تاریخ آخرین بازرسی فنی. این شماره برای ارجاع به هواپیما در مواردی مانند ترافیک هوایی، حوادث هوایی یا بررسی امنیت هواپیماها استفاده می‌شود. در این دیتاست تعداد 4043 هواپیما استفاده شده که رکورد بیشترین پرواز متعلق به هواپیمای N725MQ است که 575 پرواز داشته است.\n",
    "</div>"
   ]
  },
  {
   "cell_type": "code",
   "execution_count": 109,
   "metadata": {},
   "outputs": [
    {
     "data": {
      "text/plain": [
       "count     334264\n",
       "unique      4043\n",
       "top       N725MQ\n",
       "freq         575\n",
       "Name: tailnum, dtype: object"
      ]
     },
     "execution_count": 109,
     "metadata": {},
     "output_type": "execute_result"
    }
   ],
   "source": [
    "data['tailnum'].describe()"
   ]
  },
  {
   "cell_type": "markdown",
   "metadata": {},
   "source": [
    "=========================================================================================================================\n"
   ]
  },
  {
   "cell_type": "markdown",
   "metadata": {},
   "source": [
    "<div style=\"direction:rtl; text-align: right\">\n",
    "<span style=\"font-size: 30px; color: red\">\n",
    "<b>    \n",
    "بررسی ستون origin :\n",
    "</b>\n",
    "</span>\n",
    "</div>"
   ]
  },
  {
   "cell_type": "markdown",
   "metadata": {},
   "source": [
    "<div style=\"direction:rtl; text-align: right\">\n",
    "این ستون نشان دهنده مبداء پروازهاست و همانطور که مشاهده می شود شامل سه مبداء EWR ، LGA و JFK می باشد که بیشترین پرواز (120835 پرواز) از مبداء EWR بوده است.\n",
    "</div>"
   ]
  },
  {
   "cell_type": "code",
   "execution_count": 110,
   "metadata": {},
   "outputs": [
    {
     "data": {
      "text/plain": [
       "count     336776\n",
       "unique         3\n",
       "top          EWR\n",
       "freq      120835\n",
       "Name: origin, dtype: object"
      ]
     },
     "execution_count": 110,
     "metadata": {},
     "output_type": "execute_result"
    }
   ],
   "source": [
    "data['origin'].describe()"
   ]
  },
  {
   "cell_type": "code",
   "execution_count": 111,
   "metadata": {},
   "outputs": [
    {
     "data": {
      "text/plain": [
       "array(['EWR', 'LGA', 'JFK'], dtype=object)"
      ]
     },
     "execution_count": 111,
     "metadata": {},
     "output_type": "execute_result"
    }
   ],
   "source": [
    "pd.unique(data['origin'])"
   ]
  },
  {
   "cell_type": "code",
   "execution_count": 112,
   "metadata": {},
   "outputs": [
    {
     "name": "stdout",
     "output_type": "stream",
     "text": [
      "origin\n",
      "EWR    120835\n",
      "JFK    111279\n",
      "LGA    104662\n",
      "Name: count, dtype: int64\n"
     ]
    },
    {
     "data": {
      "text/plain": [
       "<Axes: xlabel='origin', ylabel='count'>"
      ]
     },
     "execution_count": 112,
     "metadata": {},
     "output_type": "execute_result"
    },
    {
     "data": {
      "image/png": "[encoded data removed]",
      "text/plain": [
       "<Figure size 1000x500 with 1 Axes>"
      ]
     },
     "metadata": {},
     "output_type": "display_data"
    }
   ],
   "source": [
    "day_counts = data['origin'].value_counts()\n",
    "print(day_counts)\n",
    "plt.figure (figsize = (10 , 5))\n",
    "sns.countplot(x = data['origin'] )"
   ]
  },
  {
   "cell_type": "markdown",
   "metadata": {},
   "source": [
    "========================================================================================================================="
   ]
  },
  {
   "cell_type": "markdown",
   "metadata": {},
   "source": [
    "<div style=\"direction:rtl; text-align: right\">\n",
    "<span style=\"font-size: 30px; color: red\">\n",
    "<b>    \n",
    "بررسی ستون dest :\n",
    "</b>\n",
    "</span>\n",
    "</div>"
   ]
  },
  {
   "cell_type": "markdown",
   "metadata": {},
   "source": [
    "<div style=\"direction:rtl; text-align: right\">\n",
    "این ستون حاوی اطلاعات مربوط به مقصد است که شامل 105 مقصد مختلف می باشد. بیشترین تعداد پرواز به مقصد ORD  (تعداد 17283) پرواز بوده است.\n",
    "</div>"
   ]
  },
  {
   "cell_type": "code",
   "execution_count": 113,
   "metadata": {},
   "outputs": [
    {
     "data": {
      "text/plain": [
       "count     336776\n",
       "unique       105\n",
       "top          ORD\n",
       "freq       17283\n",
       "Name: dest, dtype: object"
      ]
     },
     "execution_count": 113,
     "metadata": {},
     "output_type": "execute_result"
    }
   ],
   "source": [
    "data['dest'].describe()"
   ]
  },
  {
   "cell_type": "markdown",
   "metadata": {},
   "source": [
    "========================================================================================================================="
   ]
  },
  {
   "cell_type": "markdown",
   "metadata": {},
   "source": [
    "<div style=\"direction:rtl; text-align: right\">\n",
    "<span style=\"font-size: 30px; color: red\">\n",
    "<b>    \n",
    "بررسی ستون distance :\n",
    "</b>\n",
    "</span>\n",
    "</div>"
   ]
  },
  {
   "cell_type": "markdown",
   "metadata": {},
   "source": [
    "<div style=\"direction:rtl; text-align: right\">\n",
    "این ستون اطلاعات مربوط به فاصله مبداء و مقصد را نمایش میدهد که حداقل مسافت ثبت شده 17 بوده که چه بر حسب کیلومتر باشد چه بر حسب مایل (17 مایل معادل 27.36 کیلومتر است) پرواز به چنین فاصله کمی منطقی به نظر نمی رسد و میتواند ناشی از خطا در ثبت اطلاعات بوده باشد. با فراخوانی اطلاعات ردیف مربوط به این مقدار مشاهده میشود که اطلاعات برخی دیگر از ستونها نیز ثبت نشده و به صوت NaN نمایش داده می شود. بنابراین این ردیف را می توانیم این ردیف را به عنوان داده پرت در نظر گرفته و آن را حذف کنیم. هرچند مقایسه خلاصه اطلاعات این ستون قبل و پس از حذف نشان میدهد که وجود آن تاثیر بسیار ناچیزی داشته است. اکنون کمترین فاصله 80 و بیشترین فاصله 4983 می باشد.  \n",
    "</div>"
   ]
  },
  {
   "cell_type": "code",
   "execution_count": 114,
   "metadata": {},
   "outputs": [
    {
     "data": {
      "text/plain": [
       "count    336776.000000\n",
       "mean       1039.912604\n",
       "std         733.233033\n",
       "min          17.000000\n",
       "25%         502.000000\n",
       "50%         872.000000\n",
       "75%        1389.000000\n",
       "max        4983.000000\n",
       "Name: distance, dtype: float64"
      ]
     },
     "execution_count": 114,
     "metadata": {},
     "output_type": "execute_result"
    }
   ],
   "source": [
    "data['distance'].describe()"
   ]
  },
  {
   "cell_type": "code",
   "execution_count": 115,
   "metadata": {},
   "outputs": [
    {
     "data": {
      "text/html": [
       "<div>\n",
       "<style scoped>\n",
       "    .dataframe tbody tr th:only-of-type {\n",
       "        vertical-align: middle;\n",
       "    }\n",
       "\n",
       "    .dataframe tbody tr th {\n",
       "        vertical-align: top;\n",
       "    }\n",
       "\n",
       "    .dataframe thead th {\n",
       "        text-align: right;\n",
       "    }\n",
       "</style>\n",
       "<table border=\"1\" class=\"dataframe\">\n",
       "  <thead>\n",
       "    <tr style=\"text-align: right;\">\n",
       "      <th></th>\n",
       "      <th>id</th>\n",
       "      <th>year</th>\n",
       "      <th>month</th>\n",
       "      <th>day</th>\n",
       "      <th>dep_time</th>\n",
       "      <th>sched_dep_time</th>\n",
       "      <th>dep_delay</th>\n",
       "      <th>arr_time</th>\n",
       "      <th>sched_arr_time</th>\n",
       "      <th>arr_delay</th>\n",
       "      <th>...</th>\n",
       "      <th>flight</th>\n",
       "      <th>tailnum</th>\n",
       "      <th>origin</th>\n",
       "      <th>dest</th>\n",
       "      <th>air_time</th>\n",
       "      <th>distance</th>\n",
       "      <th>hour</th>\n",
       "      <th>minute</th>\n",
       "      <th>time_hour</th>\n",
       "      <th>name</th>\n",
       "    </tr>\n",
       "  </thead>\n",
       "  <tbody>\n",
       "    <tr>\n",
       "      <th>275945</th>\n",
       "      <td>275945</td>\n",
       "      <td>2013</td>\n",
       "      <td>7</td>\n",
       "      <td>27</td>\n",
       "      <td>NaN</td>\n",
       "      <td>106</td>\n",
       "      <td>NaN</td>\n",
       "      <td>NaN</td>\n",
       "      <td>245</td>\n",
       "      <td>NaN</td>\n",
       "      <td>...</td>\n",
       "      <td>1632</td>\n",
       "      <td>NaN</td>\n",
       "      <td>EWR</td>\n",
       "      <td>LGA</td>\n",
       "      <td>NaN</td>\n",
       "      <td>17</td>\n",
       "      <td>1</td>\n",
       "      <td>6</td>\n",
       "      <td>2013-07-27 01:00:00</td>\n",
       "      <td>US Airways Inc.</td>\n",
       "    </tr>\n",
       "  </tbody>\n",
       "</table>\n",
       "<p>1 rows × 21 columns</p>\n",
       "</div>"
      ],
      "text/plain": [
       "            id  year  month  day  dep_time  sched_dep_time  dep_delay  \\\n",
       "275945  275945  2013      7   27       NaN             106        NaN   \n",
       "\n",
       "        arr_time  sched_arr_time  arr_delay  ... flight  tailnum origin dest  \\\n",
       "275945       NaN             245        NaN  ...   1632      NaN    EWR  LGA   \n",
       "\n",
       "       air_time  distance  hour  minute            time_hour             name  \n",
       "275945      NaN        17     1       6  2013-07-27 01:00:00  US Airways Inc.  \n",
       "\n",
       "[1 rows x 21 columns]"
      ]
     },
     "execution_count": 115,
     "metadata": {},
     "output_type": "execute_result"
    }
   ],
   "source": [
    "data[data['distance'] == 17]"
   ]
  },
  {
   "cell_type": "code",
   "execution_count": 116,
   "metadata": {},
   "outputs": [],
   "source": [
    "data2 = data.drop(data[data['distance'] == 17].index)       # حذف داده نویز"
   ]
  },
  {
   "cell_type": "code",
   "execution_count": 117,
   "metadata": {},
   "outputs": [
    {
     "data": {
      "text/plain": [
       "count    336775.000000\n",
       "mean       1039.915641\n",
       "std         733.232003\n",
       "min          80.000000\n",
       "25%         502.000000\n",
       "50%         872.000000\n",
       "75%        1389.000000\n",
       "max        4983.000000\n",
       "Name: distance, dtype: float64"
      ]
     },
     "execution_count": 117,
     "metadata": {},
     "output_type": "execute_result"
    }
   ],
   "source": [
    "data2['distance'].describe()"
   ]
  },
  {
   "cell_type": "markdown",
   "metadata": {},
   "source": [
    "========================================================================================================================="
   ]
  },
  {
   "cell_type": "markdown",
   "metadata": {},
   "source": [
    "<div style=\"direction:rtl; text-align: right\">\n",
    "<span style=\"font-size: 30px; color: red\">\n",
    "<b>    \n",
    "بررسی ستون name :\n",
    "</b>\n",
    "</span>\n",
    "</div>"
   ]
  },
  {
   "cell_type": "markdown",
   "metadata": {},
   "source": [
    "<div style=\"direction:rtl; text-align: right\">\n",
    "در این ستون نام شرکت هواپیمایی مربوطه نوشته شده است. همانطور که مشاهده می شود پروازهای ثبت شده در این دیتاست مربوط به 16 شرکت هواپیمایی مختلف است که از میان آنها شرکت United Air Lines بیشتری تعداد پرواز (58665 پرواز) و شرکت SkyWest Airlines کمترین تعداد پرواز (تنها 32 پرواز) را داشته اند.  \n",
    "</div>"
   ]
  },
  {
   "cell_type": "code",
   "execution_count": 118,
   "metadata": {},
   "outputs": [
    {
     "name": "stdout",
     "output_type": "stream",
     "text": [
      "name\n",
      "United Air Lines Inc.          58665\n",
      "JetBlue Airways                54635\n",
      "ExpressJet Airlines Inc.       54173\n",
      "Delta Air Lines Inc.           48110\n",
      "American Airlines Inc.         32729\n",
      "Envoy Air                      26397\n",
      "US Airways Inc.                20536\n",
      "Endeavor Air Inc.              18460\n",
      "Southwest Airlines Co.         12275\n",
      "Virgin America                  5162\n",
      "AirTran Airways Corporation     3260\n",
      "Alaska Airlines Inc.             714\n",
      "Frontier Airlines Inc.           685\n",
      "Mesa Airlines Inc.               601\n",
      "Hawaiian Airlines Inc.           342\n",
      "SkyWest Airlines Inc.             32\n",
      "Name: count, dtype: int64\n"
     ]
    },
    {
     "data": {
      "image/png": "[encoded data removed]",
      "text/plain": [
       "<Figure size 640x480 with 1 Axes>"
      ]
     },
     "metadata": {},
     "output_type": "display_data"
    }
   ],
   "source": [
    "airline_count = data['name'].value_counts()\n",
    "print(airline_count)\n",
    "sns.countplot(x = data['name'])\n",
    "plt.xlabel('Airline')\n",
    "plt.ylabel('number of flights')\n",
    "plt.xticks(rotation = 90)\n",
    "plt.show()"
   ]
  },
  {
   "cell_type": "markdown",
   "metadata": {},
   "source": [
    "=========================================================================================================================\n"
   ]
  },
  {
   "cell_type": "markdown",
   "metadata": {},
   "source": [
    "<div style=\"direction:rtl; text-align: right\">\n",
    "<span style=\"font-size: 30px; color: red\">\n",
    "<b>    \n",
    "بررسی ارتباط بعضی از ستونها :\n",
    "</b>\n",
    "</span>\n",
    "</div>"
   ]
  },
  {
   "cell_type": "markdown",
   "metadata": {},
   "source": [
    "<div style=\"direction:rtl; text-align: right\">\n",
    " با توجه به محاسبات همبستگی میان ستونها ، ملاحظه میشود که ستون arr_delay (تاخیر در رسیدن به مقصد) با ستونهای dep_time (زمان پرواز) , dep_delay (تاخیر در پرواز) همبستگی بالایی دارد (به ترتیب 23 و 91 درصد)  </div>"
   ]
  },
  {
   "cell_type": "code",
   "execution_count": 119,
   "metadata": {},
   "outputs": [
    {
     "data": {
      "text/html": [
       "<div>\n",
       "<style scoped>\n",
       "    .dataframe tbody tr th:only-of-type {\n",
       "        vertical-align: middle;\n",
       "    }\n",
       "\n",
       "    .dataframe tbody tr th {\n",
       "        vertical-align: top;\n",
       "    }\n",
       "\n",
       "    .dataframe thead th {\n",
       "        text-align: right;\n",
       "    }\n",
       "</style>\n",
       "<table border=\"1\" class=\"dataframe\">\n",
       "  <thead>\n",
       "    <tr style=\"text-align: right;\">\n",
       "      <th></th>\n",
       "      <th>month</th>\n",
       "      <th>day</th>\n",
       "      <th>dep_time</th>\n",
       "      <th>dep_delay</th>\n",
       "      <th>arr_delay</th>\n",
       "      <th>distance</th>\n",
       "    </tr>\n",
       "  </thead>\n",
       "  <tbody>\n",
       "    <tr>\n",
       "      <th>month</th>\n",
       "      <td>100.000000</td>\n",
       "      <td>0.294235</td>\n",
       "      <td>-0.393242</td>\n",
       "      <td>-2.005702</td>\n",
       "      <td>-1.738202</td>\n",
       "      <td>2.163565</td>\n",
       "    </tr>\n",
       "    <tr>\n",
       "      <th>day</th>\n",
       "      <td>0.294235</td>\n",
       "      <td>100.000000</td>\n",
       "      <td>-0.046737</td>\n",
       "      <td>0.042001</td>\n",
       "      <td>-0.031916</td>\n",
       "      <td>0.304130</td>\n",
       "    </tr>\n",
       "    <tr>\n",
       "      <th>dep_time</th>\n",
       "      <td>-0.393242</td>\n",
       "      <td>-0.046737</td>\n",
       "      <td>100.000000</td>\n",
       "      <td>26.023123</td>\n",
       "      <td>23.230573</td>\n",
       "      <td>-1.399821</td>\n",
       "    </tr>\n",
       "    <tr>\n",
       "      <th>dep_delay</th>\n",
       "      <td>-2.005702</td>\n",
       "      <td>0.042001</td>\n",
       "      <td>26.023123</td>\n",
       "      <td>100.000000</td>\n",
       "      <td>91.480276</td>\n",
       "      <td>-2.167079</td>\n",
       "    </tr>\n",
       "    <tr>\n",
       "      <th>arr_delay</th>\n",
       "      <td>-1.738202</td>\n",
       "      <td>-0.031916</td>\n",
       "      <td>23.230573</td>\n",
       "      <td>91.480276</td>\n",
       "      <td>100.000000</td>\n",
       "      <td>-6.186776</td>\n",
       "    </tr>\n",
       "    <tr>\n",
       "      <th>distance</th>\n",
       "      <td>2.163565</td>\n",
       "      <td>0.304130</td>\n",
       "      <td>-1.399821</td>\n",
       "      <td>-2.167079</td>\n",
       "      <td>-6.186776</td>\n",
       "      <td>100.000000</td>\n",
       "    </tr>\n",
       "  </tbody>\n",
       "</table>\n",
       "</div>"
      ],
      "text/plain": [
       "                month         day    dep_time   dep_delay   arr_delay  \\\n",
       "month      100.000000    0.294235   -0.393242   -2.005702   -1.738202   \n",
       "day          0.294235  100.000000   -0.046737    0.042001   -0.031916   \n",
       "dep_time    -0.393242   -0.046737  100.000000   26.023123   23.230573   \n",
       "dep_delay   -2.005702    0.042001   26.023123  100.000000   91.480276   \n",
       "arr_delay   -1.738202   -0.031916   23.230573   91.480276  100.000000   \n",
       "distance     2.163565    0.304130   -1.399821   -2.167079   -6.186776   \n",
       "\n",
       "             distance  \n",
       "month        2.163565  \n",
       "day          0.304130  \n",
       "dep_time    -1.399821  \n",
       "dep_delay   -2.167079  \n",
       "arr_delay   -6.186776  \n",
       "distance   100.000000  "
      ]
     },
     "execution_count": 119,
     "metadata": {},
     "output_type": "execute_result"
    }
   ],
   "source": [
    "df = pd.DataFrame(data,columns =['month','day','dep_time','dep_delay','arr_delay','distance'])\n",
    "df.corr() * 100"
   ]
  },
  {
   "cell_type": "code",
   "execution_count": 120,
   "metadata": {},
   "outputs": [
    {
     "data": {
      "image/png": "[encoded data removed]",
      "text/plain": [
       "<Figure size 640x480 with 1 Axes>"
      ]
     },
     "metadata": {},
     "output_type": "display_data"
    }
   ],
   "source": [
    "plt.scatter(data['arr_delay'] , data['dep_time'])\n",
    "plt.title ('Arrive delay Vs Departure time')\n",
    "plt.xlabel('arr_delay')\n",
    "plt.ylabel('dep_time')\n",
    "plt.show()"
   ]
  },
  {
   "cell_type": "markdown",
   "metadata": {},
   "source": [
    "<div style=\"direction:rtl; text-align: right\">\n",
    "با توجه به اینکه طبق نمودار بالا رابطه بین arr_delay و dep_time از نوع رابطه خطی نمی باشد بنابراین مقدار همبستگی محاسبه شده نمی تواند اطلاعات صحیحی ارائه دهد.\n",
    "</div>"
   ]
  },
  {
   "cell_type": "code",
   "execution_count": 121,
   "metadata": {},
   "outputs": [
    {
     "data": {
      "image/png": "[encoded data removed]",
      "text/plain": [
       "<Figure size 640x480 with 1 Axes>"
      ]
     },
     "metadata": {},
     "output_type": "display_data"
    }
   ],
   "source": [
    "plt.scatter(data['arr_delay'] , data['dep_delay'])\n",
    "plt.title ('Arrive delay Vs Departure delay')\n",
    "plt.xlabel('arr_delay')\n",
    "plt.ylabel('dep_delay')\n",
    "plt.show()"
   ]
  },
  {
   "cell_type": "markdown",
   "metadata": {},
   "source": [
    "<div style=\"direction:rtl; text-align: right\">\n",
    "اما همانطور که در این نمودار مشخص است رابطه بین تاخیر در پرواز و تاخیر در رسیدن به مقصد کاملاً یک رابطه خطی و مستقیم است. بنابراین با توجه به نوع رابطه و درصد بالای همبستگی میتوان نتیجه گرفت که تاخیر در پرواز بر تاخیر در رسیدن به مقصد اثرگذار بوده  یکی از دلایل آن است.\n",
    "</div>"
   ]
  }
 ],
 "metadata": {
  "kernelspec": {
   "display_name": "Python 3 (ipykernel)",
   "language": "python",
   "name": "python3"
  },
  "language_info": {
   "codemirror_mode": {
    "name": "ipython",
    "version": 3
   },
   "file_extension": ".py",
   "mimetype": "text/x-python",
   "name": "python",
   "nbconvert_exporter": "python",
   "pygments_lexer": "ipython3",
   "version": "3.10.9"
  }
 },
 "nbformat": 4,
 "nbformat_minor": 4
}
